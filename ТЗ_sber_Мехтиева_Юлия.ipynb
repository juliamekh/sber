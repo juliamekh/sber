{
  "nbformat": 4,
  "nbformat_minor": 0,
  "metadata": {
    "colab": {
      "provenance": []
    },
    "kernelspec": {
      "name": "python3",
      "display_name": "Python 3"
    },
    "language_info": {
      "name": "python"
    }
  },
  "cells": [
    {
      "cell_type": "markdown",
      "source": [
        "Напишите скрипт, принимающий на вход Excel-спредшит с данными как в приложенном файле test_input.xlsx и генерирующий из этих данных XML-файл со структурой, как в приложенном файле output_xml.xml. Для простоты просмотра файл output_xml.xml содержит только две строчки данных из excel-файла, Ваш результирующий файл должен содержать данные из всех строчек исходного Excel-файла. Обратите внимание в каком формате написаны даты, названия и денежные выражения в результирующем файле. Форматы значений в вашем файле должны совпадать."
      ],
      "metadata": {
        "id": "wfwLCVJk3n4I"
      }
    },
    {
      "cell_type": "code",
      "source": [
        "import pandas as pd\n",
        "import xml.etree.ElementTree as ET\n",
        "\n",
        "df = pd.read_excel('test_input.xlsx', skiprows=4)\n",
        "\n",
        "certdata = ET.Element('CERTDATA')\n",
        "filename = ET.SubElement(certdata, 'FILENAME')\n",
        "filename.text = 'SABR000000119042023002'\n",
        "envelope = ET.SubElement(certdata, 'ENVELOPE')\n",
        "\n",
        "for index, row in df.iterrows():\n",
        "    ecert = ET.SubElement(certdata, 'ECERT')\n",
        "\n",
        "    certno = ET.SubElement(ecert, 'CERTNO')\n",
        "    certno.text = str(row['Ref no'])\n",
        "\n",
        "    certdate = ET.SubElement(ecert, 'CERTDATE')\n",
        "    certdate.text = row['Issuance Date'].strftime('%Y-%m-%d')\n",
        "\n",
        "    status = ET.SubElement(ecert, 'STATUS')\n",
        "    status.text = str(row['Status'])\n",
        "\n",
        "    iec = ET.SubElement(ecert, 'IEC')\n",
        "    iec.text = str(row['IE Code'])\n",
        "\n",
        "    expname = ET.SubElement(ecert, 'EXPNAME')\n",
        "    expname.text = '\"' + str(row['Client']) + '\"'\n",
        "\n",
        "    billid = ET.SubElement(ecert, 'BILLID')\n",
        "    billid.text = str(row['Bill Ref no'])\n",
        "\n",
        "    sdate = ET.SubElement(ecert, 'SDATE')\n",
        "    sdate.text = row['SB Date'].strftime('%Y-%m-%d')\n",
        "\n",
        "    scc = ET.SubElement(ecert, 'SCC')\n",
        "    scc.text = str(row['SB Currency'])\n",
        "\n",
        "    svalue = ET.SubElement(ecert, 'SVALUE')\n",
        "    svalue.text = str(row['SB Amount'])\n",
        "\n",
        "tree = ET.ElementTree(certdata)\n",
        "tree.write('output_mekhtieva_1.xml', encoding='utf-8', xml_declaration=True)"
      ],
      "metadata": {
        "id": "7Gbbk-De5WzO"
      },
      "execution_count": 14,
      "outputs": []
    },
    {
      "cell_type": "markdown",
      "source": [
        "Модифицируйте скрипт из задания 1 так, чтобы он заполнял для каждой строки данных\n",
        "(т.е. для каждого элемента ECERT результирующего файла) дополнительный атрибут\n",
        "SVALUEUSD. Скрипт должен открывать сайт ЦБ РФ\n",
        "(https://www.cbr.ru/currency_base/daily/) и вытягивать официальный курс доллара США за\n",
        "дату, указанную в колонке “SB Date” эксель-файла (соответствует атрибуту SDATE XML-\n",
        "файла), делить значение атрибута SVALUE на курс доллара США, округлять результат до\n",
        "сотых долей и записывать результат в атрибут SVALUEUSD. Для простоты можно\n",
        "считать, что в атрибуте SVALUE всегда будет значение в рублях.\n",
        "Результирующий файл должен иметь такую же структуру как вложенный файл\n",
        "output_xml_v2.xml"
      ],
      "metadata": {
        "id": "VLEagEV8-I8Z"
      }
    },
    {
      "cell_type": "code",
      "source": [
        "import requests\n",
        "from bs4 import BeautifulSoup\n",
        "\n",
        "def get_usd_exchange_rate(date):\n",
        "    url = f'https://www.cbr.ru/currency_base/daily/?UniDbQuery.Posted=True&UniDbQuery.To={date.strftime(\"%d.%m.%Y\")}'\n",
        "    response = requests.get(url)\n",
        "    soup = BeautifulSoup(response.content, 'html.parser')\n",
        "    rows = soup.find_all('tr')\n",
        "    for row in rows:\n",
        "        columns = row.find_all('td')\n",
        "        if len(columns) == 5 and columns[1].text == 'USD':\n",
        "            return float(columns[4].text.replace(',', '.'))\n",
        "    return None\n",
        "\n",
        "for index, row in df.iterrows():\n",
        "    ecert = ET.SubElement(envelope, 'ECERT')\n",
        "\n",
        "    certno = ET.SubElement(ecert, 'CERTNO')\n",
        "    certno.text = str(row['Ref no'])\n",
        "\n",
        "    certdate = ET.SubElement(ecert, 'CERTDATE')\n",
        "    certdate.text = row['Issuance Date'].strftime('%Y-%m-%d')\n",
        "\n",
        "    status = ET.SubElement(ecert, 'STATUS')\n",
        "    status.text = str(row['Status'])\n",
        "\n",
        "    iec = ET.SubElement(ecert, 'IEC')\n",
        "    iec.text = str(row['IE Code'])\n",
        "\n",
        "    expname = ET.SubElement(ecert, 'EXPNAME')\n",
        "    expname.text = '\"' + str(row['Client']) + '\"'\n",
        "\n",
        "    billid = ET.SubElement(ecert, 'BILLID')\n",
        "    billid.text = str(row['Bill Ref no'])\n",
        "\n",
        "    sdate = ET.SubElement(ecert, 'SDATE')\n",
        "    sdate.text = row['SB Date'].strftime('%Y-%m-%d')\n",
        "\n",
        "    scc = ET.SubElement(ecert, 'SCC')\n",
        "    scc.text = str(row['SB Currency'])\n",
        "\n",
        "    svalue = ET.SubElement(ecert, 'SVALUE')\n",
        "    svalue.text = str(row['SB Amount'])\n",
        "\n",
        "    usd_rate = get_usd_exchange_rate(row['SB Date'])\n",
        "    if usd_rate is not None:\n",
        "        svalue_usd = round(float(row['SB Amount']) / usd_rate, 2)\n",
        "        svalue_usd_elem = ET.SubElement(ecert, 'SVALUEUSD')\n",
        "        svalue_usd_elem.text = str(svalue_usd)\n",
        "\n",
        "tree = ET.ElementTree(certdata)\n",
        "tree.write('output_mekhtieva_2.xml', encoding='utf-8', xml_declaration=True)"
      ],
      "metadata": {
        "id": "ziBnfYc17tkB"
      },
      "execution_count": 16,
      "outputs": []
    }
  ]
}